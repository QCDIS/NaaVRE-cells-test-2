{
    "metadata": {
        "language_info": {
            "name": "python",
            "version": "3.11.8",
            "mimetype": "text/x-python",
            "codemirror_mode": {
                "name": "ipython",
                "version": 3
            },
            "pygments_lexer": "ipython3",
            "nbconvert_exporter": "python",
            "file_extension": ".py"
        },
        "kernelspec": {
            "name": "python3",
            "display_name": "python3",
            "language": "python3"
        }
    },
    "nbformat_minor": 5,
    "nbformat": 4,
    "cells": [
        {
            "cell_type": "code",
            "source": "# visualize-veluwe-output\nprint(Fig_Qrobur)\nprint(validation_plot_all)\nprint(forecasting_plot)",
            "metadata": {},
            "execution_count": null,
            "outputs": [],
            "id": "af9e5723-e73b-462f-b49d-b73a16c1b341"
        }
    ]
}