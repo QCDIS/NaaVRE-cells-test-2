{
    "metadata": {
        "language_info": {
            "name": "python",
            "version": "3.11.9",
            "mimetype": "text/x-python",
            "codemirror_mode": {
                "name": "ipython",
                "version": 3
            },
            "pygments_lexer": "ipython3",
            "nbconvert_exporter": "python",
            "file_extension": ".py"
        },
        "kernelspec": {
            "name": "python3",
            "display_name": "python3",
            "language": "python3"
        }
    },
    "nbformat_minor": 5,
    "nbformat": 4,
    "cells": [
        {
            "cell_type": "code",
            "source": "# visualize-anything\nprint(anything)",
            "metadata": {},
            "execution_count": 3,
            "outputs": [
                {
                    "name": "stdout",
                    "text": "anything\n",
                    "output_type": "stream"
                }
            ],
            "id": "e6762747-c4a0-48da-9e23-48282333d8ea"
        }
    ]
}