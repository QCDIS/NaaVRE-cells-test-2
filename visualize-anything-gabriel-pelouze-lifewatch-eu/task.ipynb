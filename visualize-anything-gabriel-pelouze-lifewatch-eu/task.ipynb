{
    "metadata": {
        "kernelspec": {
            "display_name": "python3",
            "language": "python3",
            "name": "python3"
        },
        "language_info": {
            "name": "python",
            "version": "3.11.9",
            "mimetype": "text/x-python",
            "codemirror_mode": {
                "name": "ipython",
                "version": 3
            },
            "pygments_lexer": "ipython3",
            "nbconvert_exporter": "python",
            "file_extension": ".py"
        }
    },
    "nbformat_minor": 5,
    "nbformat": 4,
    "cells": [
        {
            "cell_type": "code",
            "source": "# visualize-anything\nprint(anything)",
            "metadata": {},
            "execution_count": 3,
            "outputs": [
                {
                    "name": "stdout",
                    "output_type": "stream",
                    "text": "anything\n"
                }
            ],
            "id": "e6762747-c4a0-48da-9e23-48282333d8ea"
        }
    ]
}