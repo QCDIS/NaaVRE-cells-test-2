{
    "metadata": {
        "kernelspec": {
            "display_name": "python3",
            "language": "python3",
            "name": "python3"
        },
        "language_info": {
            "codemirror_mode": {
                "name": "ipython",
                "version": 3
            },
            "file_extension": ".py",
            "mimetype": "text/x-python",
            "name": "python",
            "nbconvert_exporter": "python",
            "pygments_lexer": "ipython3",
            "version": "3.9.7"
        }
    },
    "nbformat_minor": 5,
    "nbformat": 4,
    "cells": [
        {
            "cell_type": "code",
            "source": "# visualize-rasterio sample.tif no output\n\nimport os \nimport rasterio\nfrom rasterio.plot import show\nfrom matplotlib import pyplot\nimport numpy as np\nfrom rasterio.plot import show\nfrom rasterio.plot import show_hist\n\ndownload_done\n\n# geo_tiff = os.path.join('geotiff_TILE_000_BAND_perc_95_normalized_height_1.tif')\nsrc = rasterio.open(filename)\nshow(src)\nfig, ax = pyplot.subplots(1, figsize=(30, 30))\nshow((src, 1), interpolation='none', ax=ax)\nshow((src, 1), contour=True, ax=ax)\npyplot.show()\nshow_hist(src, bins=50, lw=0.0, stacked=False, alpha=0.3, histtype='stepfilled', title=\"Histogram\")\npyplot.show()\nsrc.close()",
            "metadata": {},
            "execution_count": null,
            "outputs": [],
            "id": "8f484370-6ad0-4fb0-9e94-23810984d17c"
        }
    ]
}