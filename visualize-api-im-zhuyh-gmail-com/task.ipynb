{
    "metadata": {
        "kernelspec": {
            "display_name": "python3",
            "language": "python3",
            "name": "python3"
        },
        "language_info": {
            "codemirror_mode": {
                "name": "ipython",
                "version": 3
            },
            "file_extension": ".py",
            "mimetype": "text/x-python",
            "name": "python",
            "nbconvert_exporter": "python",
            "pygments_lexer": "ipython3",
            "version": "3.11.9"
        }
    },
    "nbformat_minor": 5,
    "nbformat": 4,
    "cells": [
        {
            "cell_type": "code",
            "source": "# visualize-api\nimport matplotlib.pyplot as plt\n\n# Sample data\nx = [0, 1, 2, 3, 4, 5]  # X-axis values\ny = [0, 1, 4, 9, 16, 25]  # Y-axis values (squares of x)\n\n# Create a plot\nplt.plot(x, y, marker='o')\n\n# Add a title and labels\nplt.title('Simple Line Plot')\nplt.xlabel('X-axis')\nplt.ylabel('Y-axis')\n\n# Show the plot\nplt.show()",
            "metadata": {},
            "execution_count": null,
            "outputs": [],
            "id": "138faeb8-10b0-4a44-bb2d-fd5e0cd554cb"
        }
    ]
}